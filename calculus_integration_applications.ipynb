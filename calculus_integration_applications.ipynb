{
 "cells": [
  {
   "cell_type": "markdown",
   "id": "e3b8405b",
   "metadata": {},
   "source": [
    "# Calculus for Machine Learning: Integration and Its Applications"
   ]
  },
  {
   "cell_type": "markdown",
   "id": "b3921643",
   "metadata": {},
   "source": [
    "## 4. Integration and Its Applications"
   ]
  },
  {
   "cell_type": "markdown",
   "id": "e4cd503f",
   "metadata": {},
   "source": [
    "\n",
    "### What is Integration?\n",
    "\n",
    "In calculus, integration is the process of finding the integral of a function, which is the reverse operation of differentiation. The integral of a function represents the area under the curve of the function.\n",
    "\n",
    "The indefinite integral of a function \\( f(x) \\) is denoted as:\n",
    "\n",
    "\\[\n",
    "\\int f(x) \\, dx\n",
    "\\]\n",
    "\n",
    "The definite integral between limits \\( a \\) and \\( b \\) is denoted as:\n",
    "\n",
    "\\[\n",
    "\\int_a^b f(x) \\, dx\n",
    "\\]\n",
    "\n",
    "### Basic Integration Rules\n",
    "\n",
    "1. **Power Rule**:\n",
    "   \\[\n",
    "   \\int x^n \\, dx = \f",
    "rac{x^{n+1}}{n+1} + C\n",
    "   \\]\n",
    "   Example: \\( \\int x^2 \\, dx = \f",
    "rac{x^3}{3} + C \\)\n",
    "\n",
    "2. **Sum Rule**:\n",
    "   \\[\n",
    "   \\int (f(x) + g(x)) \\, dx = \\int f(x) \\, dx + \\int g(x) \\, dx\n",
    "   \\]\n",
    "\n",
    "3. **Constant Multiple Rule**:\n",
    "   \\[\n",
    "   \\int c \\cdot f(x) \\, dx = c \\cdot \\int f(x) \\, dx\n",
    "   \\]\n",
    "\n",
    "4. **Integration by Parts**:\n",
    "   \\[\n",
    "   \\int u \\, dv = u \\cdot v - \\int v \\, du\n",
    "   \\]\n",
    "\n",
    "### Applications of Integration in Machine Learning\n",
    "\n",
    "Integration is often used in probability and statistics, which play a key role in machine learning. Some examples include:\n",
    "- **Expected Value**: The expected value of a continuous random variable is calculated using integrals.\n",
    "- **Probability Density Functions (PDFs)**: The integral of a PDF over a range gives the probability of a variable falling within that range.\n",
    "\n",
    "#### Example: Finding the Area Under a Curve\n",
    "If we have a function \\( f(x) = x^2 \\), we can find the area under the curve between \\( x = 1 \\) and \\( x = 3 \\).\n",
    "    "
   ]
  },
  {
   "cell_type": "code",
   "execution_count": null,
   "id": "2ac4d308",
   "metadata": {},
   "outputs": [],
   "source": [
    "\n",
    "# Example: Calculating the definite integral of x^2 between 1 and 3\n",
    "area = sp.integrate(x**2, (x, 1, 3))\n",
    "area\n",
    "    "
   ]
  },
  {
   "cell_type": "markdown",
   "id": "6cd7f52b",
   "metadata": {},
   "source": [
    "\n",
    "### Example: Expected Value\n",
    "\n",
    "In probability theory, the expected value of a random variable \\( X \\) with probability density function \\( f(x) \\) is given by:\n",
    "\n",
    "\\[\n",
    "E(X) = \\int_{-\\infty}^{\\infty} x \\cdot f(x) \\, dx\n",
    "\\]\n",
    "\n",
    "Integrals are also used to compute the cumulative distribution functions (CDF) and moments of probability distributions.\n",
    "\n",
    "    "
   ]
  }
 ],
 "metadata": {},
 "nbformat": 4,
 "nbformat_minor": 5
}
