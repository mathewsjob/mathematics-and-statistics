{
 "cells": [
  {
   "cell_type": "markdown",
   "id": "37854001",
   "metadata": {},
   "source": [
    "# Probability and Statistics for Machine Learning: Expectation, Variance, and Covariance"
   ]
  },
  {
   "cell_type": "markdown",
   "id": "73689b96",
   "metadata": {},
   "source": [
    "## 4. Expectation, Variance, and Covariance"
   ]
  },
  {
   "cell_type": "markdown",
   "id": "8a2824d9",
   "metadata": {},
   "source": [
    "\n",
    "### What is Expectation?\n",
    "\n",
    "The expectation (or expected value) of a random variable represents the long-run average value of repetitions of the experiment. For a discrete random variable \\( X \\), the expectation is given by:\n",
    "\n",
    "\\[\n",
    "E(X) = \\sum_{i} P(x_i) \\cdot x_i\n",
    "\\]\n",
    "\n",
    "For a continuous random variable, the expectation is:\n",
    "\n",
    "\\[\n",
    "E(X) = \\int_{-\\infty}^{\\infty} x \\cdot f(x) \\, dx\n",
    "\\]\n",
    "\n",
    "### Example: Expectation of a Dice Roll\n",
    "\n",
    "The expected value of a fair six-sided die roll is:\n",
    "\n",
    "\\[\n",
    "E(X) = \f",
    "rac{1}{6}(1 + 2 + 3 + 4 + 5 + 6) = 3.5\n",
    "\\]\n",
    "    "
   ]
  },
  {
   "cell_type": "code",
   "execution_count": null,
   "id": "2b5ab5a8",
   "metadata": {},
   "outputs": [],
   "source": [
    "\n",
    "# Example: Calculating the expected value of a fair six-sided die roll\n",
    "values = np.array([1, 2, 3, 4, 5, 6])\n",
    "probabilities = np.full(6, 1/6)\n",
    "\n",
    "expected_value = np.sum(values * probabilities)\n",
    "expected_value\n",
    "    "
   ]
  },
  {
   "cell_type": "markdown",
   "id": "ae0875f5",
   "metadata": {},
   "source": [
    "\n",
    "### What is Variance?\n",
    "\n",
    "Variance measures the spread or dispersion of a random variable around its mean. It is the expected value of the squared difference between the random variable and its mean:\n",
    "\n",
    "\\[\n",
    "Var(X) = E[(X - E(X))^2]\n",
    "\\]\n",
    "\n",
    "For a discrete random variable, it is:\n",
    "\n",
    "\\[\n",
    "Var(X) = \\sum_{i} P(x_i) \\cdot (x_i - E(X))^2\n",
    "\\]\n",
    "\n",
    "### Example: Variance of a Dice Roll\n",
    "\n",
    "The variance of a fair six-sided die roll can be calculated using the formula above.\n",
    "    "
   ]
  },
  {
   "cell_type": "code",
   "execution_count": null,
   "id": "45e0b519",
   "metadata": {},
   "outputs": [],
   "source": [
    "\n",
    "# Example: Calculating the variance of a fair six-sided die roll\n",
    "mean_value = expected_value\n",
    "variance = np.sum(probabilities * (values - mean_value)**2)\n",
    "variance\n",
    "    "
   ]
  },
  {
   "cell_type": "markdown",
   "id": "180b4e0f",
   "metadata": {},
   "source": [
    "\n",
    "### What is Covariance?\n",
    "\n",
    "Covariance measures how two random variables change together. It indicates whether increases in one variable are associated with increases (or decreases) in another. For two random variables \\( X \\) and \\( Y \\), the covariance is given by:\n",
    "\n",
    "\\[\n",
    "Cov(X, Y) = E[(X - E(X))(Y - E(Y))]\n",
    "\\]\n",
    "\n",
    "If \\( Cov(X, Y) > 0 \\), the variables are positively correlated, meaning they tend to increase together. If \\( Cov(X, Y) < 0 \\), they are negatively correlated.\n",
    "\n",
    "### Example: Covariance Between Two Variables\n",
    "\n",
    "Let's calculate the covariance between two random variables with known values.\n",
    "    "
   ]
  },
  {
   "cell_type": "code",
   "execution_count": null,
   "id": "bc0b02b3",
   "metadata": {},
   "outputs": [],
   "source": [
    "\n",
    "# Example: Calculating covariance between two variables\n",
    "X = np.array([1, 2, 3])\n",
    "Y = np.array([4, 5, 6])\n",
    "\n",
    "cov_matrix = np.cov(X, Y)\n",
    "covariance_X_Y = cov_matrix[0, 1]  # Covariance between X and Y\n",
    "covariance_X_Y\n",
    "    "
   ]
  },
  {
   "cell_type": "markdown",
   "id": "f44c5f7f",
   "metadata": {},
   "source": [
    "\n",
    "### Applications in Machine Learning\n",
    "\n",
    "- **Expectation** is used to calculate averages and expected outcomes in probabilistic models.\n",
    "- **Variance** is used to understand the spread of data and is an important concept in algorithms like linear regression.\n",
    "- **Covariance** is used in Principal Component Analysis (PCA) to understand relationships between variables.\n",
    "\n",
    "    "
   ]
  }
 ],
 "metadata": {},
 "nbformat": 4,
 "nbformat_minor": 5
}
