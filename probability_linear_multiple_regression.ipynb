{
 "cells": [
  {
   "cell_type": "markdown",
   "id": "cacf4781",
   "metadata": {},
   "source": [
    "# Probability and Statistics for Machine Learning: Linear and Multiple Regression"
   ]
  },
  {
   "cell_type": "markdown",
   "id": "e730245b",
   "metadata": {},
   "source": [
    "## 10. Linear and Multiple Regression"
   ]
  },
  {
   "cell_type": "markdown",
   "id": "58b55057",
   "metadata": {},
   "source": [
    "\n",
    "### What is Linear Regression?\n",
    "\n",
    "Linear regression is a method to model the relationship between a dependent variable (target) and one or more independent variables (features). The relationship is modeled as a straight line:\n",
    "\n",
    "\\[\n",
    "y = \beta_0 + \beta_1 x + \\epsilon\n",
    "\\]\n",
    "\n",
    "Where:\n",
    "- \\( y \\) is the dependent variable (target).\n",
    "- \\( x \\) is the independent variable (feature).\n",
    "- \\( \beta_0 \\) is the intercept.\n",
    "- \\( \beta_1 \\) is the slope (coefficient of \\( x \\)).\n",
    "- \\( \\epsilon \\) is the error term.\n",
    "\n",
    "### Example: Simple Linear Regression\n",
    "\n",
    "Let's use linear regression to model the relationship between two variables.\n",
    "    "
   ]
  },
  {
   "cell_type": "code",
   "execution_count": null,
   "id": "de477173",
   "metadata": {},
   "outputs": [],
   "source": [
    "\n",
    "# Example: Simple Linear Regression using sklearn\n",
    "from sklearn.linear_model import LinearRegression\n",
    "\n",
    "# Sample data (X: independent variable, y: dependent variable)\n",
    "X = np.array([[1], [2], [3], [4], [5]])\n",
    "y = np.array([1, 2, 3, 3.5, 4])\n",
    "\n",
    "# Create a linear regression model\n",
    "model = LinearRegression()\n",
    "model.fit(X, y)\n",
    "\n",
    "# Predict values\n",
    "y_pred = model.predict(X)\n",
    "\n",
    "# Coefficients\n",
    "intercept = model.intercept_\n",
    "slope = model.coef_\n",
    "\n",
    "intercept, slope\n",
    "    "
   ]
  },
  {
   "cell_type": "markdown",
   "id": "55b084b9",
   "metadata": {},
   "source": [
    "\n",
    "### Multiple Regression\n",
    "\n",
    "Multiple regression models the relationship between a dependent variable and multiple independent variables. The model is given by:\n",
    "\n",
    "\\[\n",
    "y = \beta_0 + \beta_1 x_1 + \beta_2 x_2 + \\dots + \beta_n x_n + \\epsilon\n",
    "\\]\n",
    "\n",
    "Where:\n",
    "- \\( y \\) is the dependent variable.\n",
    "- \\( x_1, x_2, \\dots, x_n \\) are the independent variables.\n",
    "- \\( \beta_0 \\) is the intercept.\n",
    "- \\( \beta_1, \beta_2, \\dots, \beta_n \\) are the coefficients of the independent variables.\n",
    "- \\( \\epsilon \\) is the error term.\n",
    "\n",
    "### Example: Multiple Linear Regression\n",
    "\n",
    "Let's use multiple linear regression to model the relationship between one target and two features.\n",
    "    "
   ]
  },
  {
   "cell_type": "code",
   "execution_count": null,
   "id": "51f35a7b",
   "metadata": {},
   "outputs": [],
   "source": [
    "\n",
    "# Example: Multiple Linear Regression\n",
    "# Sample data (X: two independent variables, y: dependent variable)\n",
    "X_multi = np.array([[1, 2], [2, 3], [3, 4], [4, 5], [5, 6]])\n",
    "y_multi = np.array([1, 2, 3, 3.5, 4])\n",
    "\n",
    "# Create a multiple linear regression model\n",
    "model_multi = LinearRegression()\n",
    "model_multi.fit(X_multi, y_multi)\n",
    "\n",
    "# Coefficients\n",
    "intercept_multi = model_multi.intercept_\n",
    "coefficients_multi = model_multi.coef_\n",
    "\n",
    "intercept_multi, coefficients_multi\n",
    "    "
   ]
  },
  {
   "cell_type": "markdown",
   "id": "54d99281",
   "metadata": {},
   "source": [
    "\n",
    "### Applications in Machine Learning\n",
    "\n",
    "- **Linear Regression** is used in machine learning for tasks such as predicting continuous values, like house prices or stock prices.\n",
    "- **Multiple Regression** allows for modeling complex relationships between multiple features and the target.\n",
    "\n",
    "    "
   ]
  }
 ],
 "metadata": {},
 "nbformat": 4,
 "nbformat_minor": 5
}
