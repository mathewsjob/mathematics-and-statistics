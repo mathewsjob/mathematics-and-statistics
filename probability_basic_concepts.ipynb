{
 "cells": [
  {
   "cell_type": "markdown",
   "id": "2dea26eb",
   "metadata": {},
   "source": [
    "# Probability and Statistics for Machine Learning: Basic Probability Concepts"
   ]
  },
  {
   "cell_type": "markdown",
   "id": "764a521e",
   "metadata": {},
   "source": [
    "## 1. Basic Probability Concepts"
   ]
  },
  {
   "cell_type": "markdown",
   "id": "9517124a",
   "metadata": {},
   "source": [
    "\n",
    "### What is Probability?\n",
    "\n",
    "Probability is a measure of how likely an event is to occur. It is a number between 0 and 1, where 0 indicates an impossible event and 1 indicates a certain event. The probability of an event \\( A \\) is denoted as \\( P(A) \\).\n",
    "\n",
    "\\[\n",
    "0 \\leq P(A) \\leq 1\n",
    "\\]\n",
    "\n",
    "### Sample Space and Events\n",
    "\n",
    "- **Sample Space (S)**: The set of all possible outcomes of a random experiment. For example, if we toss a coin, the sample space is \\( S = \\{ \text{Heads}, \text{Tails} \\} \\).\n",
    "- **Event**: A subset of the sample space. For example, getting a \"Heads\" when tossing a coin is an event.\n",
    "\n",
    "### Types of Probability\n",
    "\n",
    "1. **Classical Probability**: Based on the assumption that all outcomes are equally likely.\n",
    "   \\[\n",
    "   P(A) = \f",
    "rac{\text{Number of favorable outcomes}}{\text{Total number of possible outcomes}}\n",
    "   \\]\n",
    "   Example: The probability of rolling a 3 on a fair 6-sided die is:\n",
    "   \\[\n",
    "   P(\text{3}) = \f",
    "rac{1}{6}\n",
    "   \\]\n",
    "\n",
    "2. **Empirical Probability**: Based on observations or experiments.\n",
    "   \\[\n",
    "   P(A) = \f",
    "rac{\text{Number of times A occurred}}{\text{Total number of trials}}\n",
    "   \\]\n",
    "\n",
    "3. **Subjective Probability**: Based on personal judgment or experience rather than objective data.\n",
    "\n",
    "### Conditional Probability\n",
    "\n",
    "The probability of an event \\( A \\), given that another event \\( B \\) has already occurred, is called conditional probability. It is denoted as \\( P(A|B) \\) and is calculated as:\n",
    "\n",
    "\\[\n",
    "P(A|B) = \f",
    "rac{P(A \\cap B)}{P(B)}\n",
    "\\]\n",
    "\n",
    "### Example: Probability of Drawing a Red Card\n",
    "In a deck of 52 playing cards, the probability of drawing a red card is:\n",
    "\n",
    "\\[\n",
    "P(\text{Red Card}) = \f",
    "rac{26}{52} = 0.5\n",
    "\\]\n",
    "    "
   ]
  },
  {
   "cell_type": "code",
   "execution_count": null,
   "id": "7d730d50",
   "metadata": {},
   "outputs": [],
   "source": [
    "\n",
    "# Example: Calculating probability using fractions\n",
    "from fractions import Fraction\n",
    "\n",
    "# Probability of drawing a red card from a deck of 52 cards\n",
    "P_red_card = Fraction(26, 52)\n",
    "P_red_card\n",
    "    "
   ]
  },
  {
   "cell_type": "markdown",
   "id": "bd9cac87",
   "metadata": {},
   "source": [
    "\n",
    "### Law of Total Probability\n",
    "\n",
    "The law of total probability states that if events \\( B_1, B_2, \\dots, B_n \\) form a partition of the sample space, then the probability of an event \\( A \\) is:\n",
    "\n",
    "\\[\n",
    "P(A) = P(A \\cap B_1) + P(A \\cap B_2) + \\dots + P(A \\cap B_n)\n",
    "\\]\n",
    "\n",
    "### Bayes' Theorem\n",
    "\n",
    "Bayes' theorem relates the conditional probabilities of two events. It is given by:\n",
    "\n",
    "\\[\n",
    "P(A|B) = \f",
    "rac{P(B|A) \\cdot P(A)}{P(B)}\n",
    "\\]\n",
    "\n",
    "Bayes' theorem is widely used in machine learning, especially in algorithms like **Naive Bayes Classifier**.\n",
    "\n",
    "    "
   ]
  }
 ],
 "metadata": {},
 "nbformat": 4,
 "nbformat_minor": 5
}
