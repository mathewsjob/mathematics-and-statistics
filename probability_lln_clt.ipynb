{
 "cells": [
  {
   "cell_type": "markdown",
   "id": "08b2ed02",
   "metadata": {},
   "source": [
    "# Probability and Statistics for Machine Learning: Law of Large Numbers and Central Limit Theorem"
   ]
  },
  {
   "cell_type": "markdown",
   "id": "6330d040",
   "metadata": {},
   "source": [
    "## 5. Law of Large Numbers and Central Limit Theorem"
   ]
  },
  {
   "cell_type": "markdown",
   "id": "8a6a5cdc",
   "metadata": {},
   "source": [
    "\n",
    "### Law of Large Numbers (LLN)\n",
    "\n",
    "The law of large numbers states that as the number of trials or observations increases, the sample mean will converge to the expected value. In other words, with more data, the average of the sample will get closer to the population mean.\n",
    "\n",
    "There are two forms of the law of large numbers:\n",
    "- **Weak Law of Large Numbers**: The sample average converges in probability towards the expected value.\n",
    "- **Strong Law of Large Numbers**: The sample average almost surely converges to the expected value.\n",
    "\n",
    "### Example\n",
    "\n",
    "If we repeatedly flip a fair coin, the proportion of heads will approach 0.5 as the number of flips increases.\n",
    "    "
   ]
  },
  {
   "cell_type": "code",
   "execution_count": null,
   "id": "35a05419",
   "metadata": {},
   "outputs": [],
   "source": [
    "\n",
    "# Example: Law of Large Numbers\n",
    "np.random.seed(42)\n",
    "\n",
    "# Simulating coin flips (1 = heads, 0 = tails)\n",
    "n_flips = 1000\n",
    "flips = np.random.randint(0, 2, size=n_flips)\n",
    "\n",
    "# Calculating cumulative proportion of heads\n",
    "cumulative_proportion_heads = np.cumsum(flips) / np.arange(1, n_flips + 1)\n",
    "\n",
    "# Plotting the cumulative proportion of heads over the number of flips\n",
    "plt.plot(cumulative_proportion_heads)\n",
    "plt.axhline(0.5, color='r', linestyle='--')\n",
    "plt.title('Law of Large Numbers: Proportion of Heads')\n",
    "plt.xlabel('Number of Flips')\n",
    "plt.ylabel('Proportion of Heads')\n",
    "plt.show()\n",
    "    "
   ]
  },
  {
   "cell_type": "markdown",
   "id": "27cfe660",
   "metadata": {},
   "source": [
    "\n",
    "### Central Limit Theorem (CLT)\n",
    "\n",
    "The central limit theorem states that the sampling distribution of the sample mean will tend to be normally distributed, regardless of the original distribution of the data, as long as the sample size is sufficiently large.\n",
    "\n",
    "In other words, even if the population distribution is not normal, the distribution of the sample mean will approach a normal distribution as the sample size increases.\n",
    "\n",
    "The CLT is critical in statistics and machine learning because it allows us to make inferences about population parameters even when the population is not normally distributed.\n",
    "\n",
    "### Example: Central Limit Theorem\n",
    "\n",
    "Let's simulate a non-normal population and observe how the distribution of sample means approaches a normal distribution as the sample size increases.\n",
    "    "
   ]
  },
  {
   "cell_type": "code",
   "execution_count": null,
   "id": "65281a16",
   "metadata": {},
   "outputs": [],
   "source": [
    "\n",
    "# Example: Central Limit Theorem\n",
    "np.random.seed(42)\n",
    "\n",
    "# Simulating a non-normal population (exponential distribution)\n",
    "population = np.random.exponential(scale=2, size=10000)\n",
    "\n",
    "# Drawing multiple samples and calculating the sample means\n",
    "sample_size = 30\n",
    "n_samples = 1000\n",
    "sample_means = [np.mean(np.random.choice(population, sample_size)) for _ in range(n_samples)]\n",
    "\n",
    "# Plotting the distribution of sample means\n",
    "plt.hist(sample_means, bins=30, density=True, alpha=0.6, color='g')\n",
    "plt.title('Central Limit Theorem: Distribution of Sample Means')\n",
    "plt.xlabel('Sample Mean')\n",
    "plt.ylabel('Density')\n",
    "plt.show()\n",
    "    "
   ]
  },
  {
   "cell_type": "markdown",
   "id": "e3c03b26",
   "metadata": {},
   "source": [
    "\n",
    "### Applications in Machine Learning\n",
    "\n",
    "- The **Law of Large Numbers** assures that with a sufficiently large dataset, the sample mean will be a good estimator of the population mean.\n",
    "- The **Central Limit Theorem** is fundamental to many statistical methods, including hypothesis testing and confidence intervals, as it allows us to assume normality for large sample sizes, even when the data is not normally distributed.\n",
    "\n",
    "    "
   ]
  }
 ],
 "metadata": {},
 "nbformat": 4,
 "nbformat_minor": 5
}
