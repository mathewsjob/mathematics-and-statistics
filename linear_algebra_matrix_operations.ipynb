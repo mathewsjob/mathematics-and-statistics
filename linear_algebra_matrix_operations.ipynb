{
 "cells": [
  {
   "cell_type": "markdown",
   "id": "c449ecba",
   "metadata": {},
   "source": [
    "# Linear Algebra for Machine Learning: Matrix Operations"
   ]
  },
  {
   "cell_type": "markdown",
   "id": "48e29df4",
   "metadata": {},
   "source": [
    "## 2. Matrix Operations"
   ]
  },
  {
   "cell_type": "markdown",
   "id": "2b6ef5b6",
   "metadata": {},
   "source": [
    "\n",
    "### Introduction to Matrices\n",
    "A matrix is a two-dimensional array of numbers arranged in rows and columns. Matrices are used to represent data or perform transformations in machine learning.\n",
    "\n",
    "### Matrix Notation:\n",
    "A matrix can be represented as follows:\n",
    "- A 2x2 matrix: \n",
    "    \\[\n",
    "    A = \begin{bmatrix}\n",
    "    a_{11} & a_{12} \\\n",
    "    a_{21} & a_{22}\n",
    "    \\end{bmatrix}\n",
    "    \\]\n",
    "\n",
    "Where \\( a_{11}, a_{12}, a_{21}, a_{22} \\) are the elements of the matrix.\n",
    "    "
   ]
  },
  {
   "cell_type": "code",
   "execution_count": null,
   "id": "d88c417e",
   "metadata": {},
   "outputs": [],
   "source": [
    "\n",
    "import numpy as np\n",
    "\n",
    "# Creating a 2x2 matrix\n",
    "matrix_A = np.array([[1, 2], [3, 4]])\n",
    "\n",
    "print(f\"Matrix A:\\n{matrix_A}\")\n",
    "    "
   ]
  },
  {
   "cell_type": "markdown",
   "id": "6f51f993",
   "metadata": {},
   "source": [
    "### Matrix Addition"
   ]
  },
  {
   "cell_type": "markdown",
   "id": "8db51e97",
   "metadata": {},
   "source": [
    "\n",
    "Matrix addition is performed element-wise, provided that both matrices have the same dimensions. For example:\n",
    "\n",
    "\\[A = \begin{bmatrix}\n",
    "1 & 2 \\\n",
    "3 & 4\n",
    "\\end{bmatrix},\n",
    "B = \begin{bmatrix}\n",
    "5 & 6 \\\n",
    "7 & 8\n",
    "\\end{bmatrix}\n",
    "\\]\n",
    "\n",
    "Then, \\( A + B \\) will be:\n",
    "\n",
    "\\[A + B = \begin{bmatrix}\n",
    "1+5 & 2+6 \\\n",
    "3+7 & 4+8\n",
    "\\end{bmatrix}\n",
    "= \begin{bmatrix}\n",
    "6 & 8 \\\n",
    "10 & 12\n",
    "\\end{bmatrix}\n",
    "\\]\n",
    "    "
   ]
  },
  {
   "cell_type": "code",
   "execution_count": null,
   "id": "9e4584a7",
   "metadata": {},
   "outputs": [],
   "source": [
    "\n",
    "# Example of matrix addition\n",
    "matrix_B = np.array([[5, 6], [7, 8]])\n",
    "matrix_sum = matrix_A + matrix_B\n",
    "\n",
    "print(f\"Matrix A + Matrix B:\\n{matrix_sum}\")\n",
    "    "
   ]
  },
  {
   "cell_type": "markdown",
   "id": "378da8bd",
   "metadata": {},
   "source": [
    "### Matrix Multiplication"
   ]
  },
  {
   "cell_type": "markdown",
   "id": "7a057add",
   "metadata": {},
   "source": [
    "\n",
    "Matrix multiplication is done by multiplying corresponding rows of the first matrix with columns of the second matrix. The result is a new matrix where each element is the dot product of a row from the first matrix and a column from the second matrix.\n",
    "\n",
    "For example:\n",
    "\n",
    "\\[A = \begin{bmatrix}\n",
    "1 & 2 \\\n",
    "3 & 4\n",
    "\\end{bmatrix},\n",
    "B = \begin{bmatrix}\n",
    "5 & 6 \\\n",
    "7 & 8\n",
    "\\end{bmatrix}\n",
    "\\]\n",
    "\n",
    "Then, \\( A \times B \\) will be:\n",
    "\n",
    "\\[A \times B = \begin{bmatrix}\n",
    "1\\cdot5 + 2\\cdot7 & 1\\cdot6 + 2\\cdot8 \\\n",
    "3\\cdot5 + 4\\cdot7 & 3\\cdot6 + 4\\cdot8\n",
    "\\end{bmatrix}\n",
    "= \begin{bmatrix}\n",
    "19 & 22 \\\n",
    "43 & 50\n",
    "\\end{bmatrix}\n",
    "\\]\n",
    "    "
   ]
  },
  {
   "cell_type": "code",
   "execution_count": null,
   "id": "a0869e72",
   "metadata": {},
   "outputs": [],
   "source": [
    "\n",
    "# Example of matrix multiplication\n",
    "matrix_product = np.dot(matrix_A, matrix_B)\n",
    "print(f\"Matrix A x Matrix B:\\n{matrix_product}\")\n",
    "    "
   ]
  },
  {
   "cell_type": "markdown",
   "id": "d5227770",
   "metadata": {},
   "source": [
    "### Scalar Multiplication"
   ]
  },
  {
   "cell_type": "markdown",
   "id": "72928d71",
   "metadata": {},
   "source": [
    "\n",
    "In scalar multiplication, each element of the matrix is multiplied by the scalar value.\n",
    "\n",
    "For example:\n",
    "\n",
    "\\[A = \begin{bmatrix}\n",
    "1 & 2 \\\n",
    "3 & 4\n",
    "\\end{bmatrix}, \\text{Scalar } s = 2\n",
    "\\]\n",
    "\n",
    "\\[s \\cdot A = \begin{bmatrix}\n",
    "2 \\cdot 1 & 2 \\cdot 2 \\\n",
    "2 \\cdot 3 & 2 \\cdot 4\n",
    "\\end{bmatrix}\n",
    "= \begin{bmatrix}\n",
    "2 & 4 \\\n",
    "6 & 8\n",
    "\\end{bmatrix}\n",
    "\\]\n",
    "    "
   ]
  },
  {
   "cell_type": "code",
   "execution_count": null,
   "id": "dd9f6bfd",
   "metadata": {},
   "outputs": [],
   "source": [
    "\n",
    "# Example of scalar multiplication\n",
    "scalar = 2\n",
    "scalar_product = scalar * matrix_A\n",
    "print(f\"Scalar (2) * Matrix A:\\n{scalar_product}\")\n",
    "    "
   ]
  },
  {
   "cell_type": "markdown",
   "id": "d2d43297",
   "metadata": {},
   "source": [
    "\n",
    "### Matrix Transpose\n",
    "The transpose of a matrix is obtained by switching its rows with its columns.\n",
    "\n",
    "For example:\n",
    "\n",
    "\\[A = \begin{bmatrix}\n",
    "1 & 2 \\\n",
    "3 & 4\n",
    "\\end{bmatrix}\n",
    "\\quad A^T = \begin{bmatrix}\n",
    "1 & 3 \\\n",
    "2 & 4\n",
    "\\end{bmatrix}\n",
    "\\]\n",
    "    "
   ]
  },
  {
   "cell_type": "code",
   "execution_count": null,
   "id": "614b2cd5",
   "metadata": {},
   "outputs": [],
   "source": [
    "\n",
    "# Example of matrix transpose\n",
    "matrix_transpose = np.transpose(matrix_A)\n",
    "print(f\"Matrix A Transpose:\\n{matrix_transpose}\")\n",
    "    "
   ]
  }
 ],
 "metadata": {},
 "nbformat": 4,
 "nbformat_minor": 5
}
