{
 "cells": [
  {
   "cell_type": "markdown",
   "id": "2cba1dfd",
   "metadata": {},
   "source": [
    "# Linear Algebra for Machine Learning: Vectors and Scalars"
   ]
  },
  {
   "cell_type": "markdown",
   "id": "fabb30de",
   "metadata": {},
   "source": [
    "## 1. Vectors and Scalars"
   ]
  },
  {
   "cell_type": "markdown",
   "id": "b1529b1c",
   "metadata": {},
   "source": [
    "\n",
    "### What is a Scalar?\n",
    "A scalar is a single number. It is used to represent quantities like temperature, length, or mass. Scalars have magnitude but no direction. In mathematical terms, scalars are real numbers.\n",
    "\n",
    "### What is a Vector?\n",
    "A vector is a quantity that has both magnitude and direction. Vectors are often used to represent quantities like velocity, acceleration, and force. A vector in an n-dimensional space is a tuple of n numbers.\n",
    "    "
   ]
  },
  {
   "cell_type": "code",
   "execution_count": null,
   "id": "bd24c182",
   "metadata": {},
   "outputs": [],
   "source": [
    "\n",
    "# Example of a Scalar\n",
    "scalar = 5\n",
    "print(f\"Scalar value: {scalar}\")\n",
    "    "
   ]
  },
  {
   "cell_type": "markdown",
   "id": "79b9564c",
   "metadata": {},
   "source": [
    "### Vector Operations"
   ]
  },
  {
   "cell_type": "markdown",
   "id": "649c6ecb",
   "metadata": {},
   "source": [
    "\n",
    "Vectors are typically represented as an array of numbers. A vector can be represented in 2D, 3D, or any n-dimensional space.\n",
    "\n",
    "Examples:\n",
    "- A 2D vector: [1, 2]\n",
    "- A 3D vector: [1, 2, 3]\n",
    "    "
   ]
  },
  {
   "cell_type": "code",
   "execution_count": null,
   "id": "9327b69b",
   "metadata": {},
   "outputs": [],
   "source": [
    "\n",
    "import numpy as np\n",
    "\n",
    "# Example of a 2D vector\n",
    "vector_2d = np.array([1, 2])\n",
    "\n",
    "# Example of a 3D vector\n",
    "vector_3d = np.array([1, 2, 3])\n",
    "\n",
    "print(f\"2D Vector: {vector_2d}\")\n",
    "print(f\"3D Vector: {vector_3d}\")\n",
    "    "
   ]
  },
  {
   "cell_type": "markdown",
   "id": "0766108a",
   "metadata": {},
   "source": [
    "\n",
    "### Vector Addition\n",
    "You can add two vectors if they have the same dimension. \n",
    "\n",
    "For example, adding two 2D vectors:\n",
    "- Vector A = [1, 2]\n",
    "- Vector B = [3, 4]\n",
    "\n",
    "Result:\n",
    "- Vector A + Vector B = [4, 6]\n",
    "    "
   ]
  },
  {
   "cell_type": "code",
   "execution_count": null,
   "id": "232c1466",
   "metadata": {},
   "outputs": [],
   "source": [
    "\n",
    "# Example of vector addition\n",
    "vector_A = np.array([1, 2])\n",
    "vector_B = np.array([3, 4])\n",
    "\n",
    "vector_sum = vector_A + vector_B\n",
    "print(f\"Vector A + Vector B = {vector_sum}\")\n",
    "    "
   ]
  },
  {
   "cell_type": "markdown",
   "id": "f9f37925",
   "metadata": {},
   "source": [
    "\n",
    "### Vector Multiplication (Dot Product)\n",
    "The dot product of two vectors is calculated as follows:\n",
    "\n",
    "If:\n",
    "- Vector A = [a1, a2]\n",
    "- Vector B = [b1, b2]\n",
    "\n",
    "Then the dot product is: a1 * b1 + a2 * b2\n",
    "    "
   ]
  },
  {
   "cell_type": "code",
   "execution_count": null,
   "id": "bad6a0a5",
   "metadata": {},
   "outputs": [],
   "source": [
    "\n",
    "# Example of dot product\n",
    "dot_product = np.dot(vector_A, vector_B)\n",
    "print(f\"Dot product of Vector A and Vector B = {dot_product}\")\n",
    "    "
   ]
  }
 ],
 "metadata": {},
 "nbformat": 4,
 "nbformat_minor": 5
}
