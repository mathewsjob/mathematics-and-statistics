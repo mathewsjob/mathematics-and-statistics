{
 "cells": [
  {
   "cell_type": "markdown",
   "id": "e4c124ab",
   "metadata": {},
   "source": [
    "# Probability and Statistics for Machine Learning: p-values and Significance Testing"
   ]
  },
  {
   "cell_type": "markdown",
   "id": "48026a4c",
   "metadata": {},
   "source": [
    "## 7. p-values and Significance Testing"
   ]
  },
  {
   "cell_type": "markdown",
   "id": "7610b0cb",
   "metadata": {},
   "source": [
    "\n",
    "### What is a p-value?\n",
    "\n",
    "The p-value is the probability of observing a test statistic as extreme as, or more extreme than, the one observed under the assumption that the null hypothesis is true. It helps us determine the strength of evidence against the null hypothesis.\n",
    "\n",
    "- A small p-value (typically less than 0.05) indicates strong evidence against the null hypothesis, so we reject the null hypothesis.\n",
    "- A large p-value indicates weak evidence against the null hypothesis, so we fail to reject it.\n",
    "\n",
    "### Significance Level (\\( \u0007lpha \\))\n",
    "\n",
    "The significance level, denoted by \\( \u0007lpha \\), is the threshold below which the p-value must fall to reject the null hypothesis. Common choices for \\( \u0007lpha \\) are 0.05, 0.01, and 0.10.\n",
    "\n",
    "### Example: p-value in a t-test\n",
    "\n",
    "We can use a one-sample t-test to test whether the mean of a sample is significantly different from a hypothesized population mean.\n",
    "    "
   ]
  },
  {
   "cell_type": "code",
   "execution_count": null,
   "id": "ec1e650c",
   "metadata": {},
   "outputs": [],
   "source": [
    "\n",
    "# Example: Calculating p-value using a one-sample t-test\n",
    "sample_data = np.array([168, 172, 169, 171, 170, 173, 174])\n",
    "population_mean = 170\n",
    "\n",
    "# Perform one-sample t-test\n",
    "t_statistic, p_value = stats.ttest_1samp(sample_data, population_mean)\n",
    "p_value\n",
    "    "
   ]
  },
  {
   "cell_type": "markdown",
   "id": "5e509de2",
   "metadata": {},
   "source": [
    "\n",
    "### Interpreting the p-value\n",
    "\n",
    "- If \\( p \\leq \u0007lpha \\), we reject the null hypothesis \\( H_0 \\).\n",
    "- If \\( p > \u0007lpha \\), we fail to reject the null hypothesis \\( H_0 \\).\n",
    "\n",
    "### Example\n",
    "\n",
    "If the p-value is 0.03 and the significance level \\( \u0007lpha \\) is 0.05, we reject the null hypothesis because the p-value is less than the significance level. This suggests that there is enough evidence to support the alternative hypothesis.\n",
    "\n",
    "### Applications in Machine Learning\n",
    "\n",
    "p-values are used in machine learning to:\n",
    "- Test the significance of model coefficients.\n",
    "- Compare models to determine whether their differences in performance are statistically significant.\n",
    "- Validate assumptions such as normality in residuals or homoscedasticity.\n",
    "\n",
    "    "
   ]
  }
 ],
 "metadata": {},
 "nbformat": 4,
 "nbformat_minor": 5
}
