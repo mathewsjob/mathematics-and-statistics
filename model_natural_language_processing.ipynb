{
 "cells": [
  {
   "cell_type": "markdown",
   "id": "dcf82ed0",
   "metadata": {},
   "source": [
    "# Natural Language Processing (NLP) for Machine Learning"
   ]
  },
  {
   "cell_type": "markdown",
   "id": "5fa81227",
   "metadata": {},
   "source": [
    "## 1. Introduction to NLP"
   ]
  },
  {
   "cell_type": "markdown",
   "id": "ffbfa5bd",
   "metadata": {},
   "source": [
    "\n",
    "### What is Natural Language Processing (NLP)?\n",
    "\n",
    "Natural Language Processing (NLP) is a field of artificial intelligence that focuses on the interaction between computers and humans using natural language. The goal of NLP is to enable computers to understand, interpret, and generate human language in a way that is valuable.\n",
    "\n",
    "### Key NLP Tasks\n",
    "\n",
    "1. **Text Classification**: Categorizing text into predefined categories (e.g., spam detection, sentiment analysis).\n",
    "2. **Named Entity Recognition (NER)**: Identifying entities such as names, locations, and dates in a text.\n",
    "3. **Language Modeling**: Predicting the next word in a sequence.\n",
    "4. **Machine Translation**: Translating text from one language to another.\n",
    "5. **Text Summarization**: Generating a concise summary of a longer document.\n",
    "\n",
    "### Example: Text Preprocessing\n",
    "    "
   ]
  },
  {
   "cell_type": "code",
   "execution_count": null,
   "id": "a2691aa6",
   "metadata": {},
   "outputs": [],
   "source": [
    "\n",
    "from sklearn.feature_extraction.text import CountVectorizer\n",
    "\n",
    "# Example: Text preprocessing using CountVectorizer (Bag-of-Words model)\n",
    "texts = [\"I love machine learning\", \"NLP is exciting\", \"Deep learning is powerful\"]\n",
    "\n",
    "vectorizer = CountVectorizer()\n",
    "X_bow = vectorizer.fit_transform(texts)\n",
    "X_bow.toarray()\n",
    "    "
   ]
  },
  {
   "cell_type": "markdown",
   "id": "a2e5400d",
   "metadata": {},
   "source": [
    "\n",
    "## 2. Text Representation\n",
    "\n",
    "Text data needs to be transformed into numerical format before it can be processed by machine learning models. Common techniques for text representation include:\n",
    "\n",
    "1. **Bag of Words (BoW)**: Represents text as a collection of word counts.\n",
    "2. **TF-IDF**: Term Frequency-Inverse Document Frequency is used to weigh words based on how often they appear in a document and across a set of documents.\n",
    "3. **Word Embeddings**: Dense vector representations of words that capture semantic meaning (e.g., Word2Vec, GloVe).\n",
    "\n",
    "### Example: TF-IDF Vectorization\n",
    "    "
   ]
  },
  {
   "cell_type": "code",
   "execution_count": null,
   "id": "f3a04d8d",
   "metadata": {},
   "outputs": [],
   "source": [
    "\n",
    "from sklearn.feature_extraction.text import TfidfVectorizer\n",
    "\n",
    "# Example: TF-IDF Vectorization\n",
    "tfidf_vectorizer = TfidfVectorizer()\n",
    "X_tfidf = tfidf_vectorizer.fit_transform(texts)\n",
    "X_tfidf.toarray()\n",
    "    "
   ]
  },
  {
   "cell_type": "markdown",
   "id": "969b74cd",
   "metadata": {},
   "source": [
    "\n",
    "## 3. Sentiment Analysis\n",
    "\n",
    "Sentiment analysis is a common NLP task that involves determining the sentiment or emotion expressed in a piece of text. This can be used for tasks like analyzing customer reviews or social media sentiment.\n",
    "\n",
    "### Example: Sentiment Classification Using Logistic Regression\n",
    "    "
   ]
  },
  {
   "cell_type": "code",
   "execution_count": null,
   "id": "0d8c55c2",
   "metadata": {},
   "outputs": [],
   "source": [
    "\n",
    "from sklearn.linear_model import LogisticRegression\n",
    "from sklearn.model_selection import train_test_split\n",
    "from sklearn.metrics import accuracy_score\n",
    "\n",
    "# Sample dataset for sentiment analysis (1: Positive, 0: Negative)\n",
    "texts_sentiment = [\"I love this product\", \"This is terrible\", \"I am very happy\", \"I hate it\", \"This is the best\"]\n",
    "labels = [1, 0, 1, 0, 1]\n",
    "\n",
    "# Vectorizing the text\n",
    "X_sentiment = tfidf_vectorizer.fit_transform(texts_sentiment)\n",
    "y_sentiment = labels\n",
    "\n",
    "# Train-test split\n",
    "X_train_sentiment, X_test_sentiment, y_train_sentiment, y_test_sentiment = train_test_split(X_sentiment, y_sentiment, test_size=0.2, random_state=42)\n",
    "\n",
    "# Logistic regression model\n",
    "lr_model = LogisticRegression()\n",
    "lr_model.fit(X_train_sentiment, y_train_sentiment)\n",
    "\n",
    "# Predictions and accuracy\n",
    "y_pred_sentiment = lr_model.predict(X_test_sentiment)\n",
    "accuracy = accuracy_score(y_test_sentiment, y_pred_sentiment)\n",
    "accuracy\n",
    "    "
   ]
  },
  {
   "cell_type": "markdown",
   "id": "e1faabee",
   "metadata": {},
   "source": [
    "\n",
    "## Applications in Machine Learning\n",
    "\n",
    "- **Text Classification**: NLP is widely used for text classification tasks such as spam detection, sentiment analysis, and topic categorization.\n",
    "- **Word Embeddings**: Representing words as vectors helps capture semantic relationships between words.\n",
    "- **Sentiment Analysis**: Useful for understanding customer feedback, social media analysis, and more.\n",
    "\n",
    "    "
   ]
  }
 ],
 "metadata": {},
 "nbformat": 4,
 "nbformat_minor": 5
}
