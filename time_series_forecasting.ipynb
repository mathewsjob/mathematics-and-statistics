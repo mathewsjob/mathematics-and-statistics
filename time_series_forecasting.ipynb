{
 "cells": [
  {
   "cell_type": "markdown",
   "id": "397911c6",
   "metadata": {},
   "source": [
    "# Time Series Forecasting for Machine Learning"
   ]
  },
  {
   "cell_type": "markdown",
   "id": "ed959465",
   "metadata": {},
   "source": [
    "## 1. Introduction to Time Series Forecasting"
   ]
  },
  {
   "cell_type": "markdown",
   "id": "2d778d03",
   "metadata": {},
   "source": [
    "\n",
    "### What is Time Series Forecasting?\n",
    "\n",
    "Time series forecasting involves predicting future values based on previously observed data points over time. It is widely used in areas such as financial forecasting, stock market prediction, sales forecasting, and weather prediction.\n",
    "\n",
    "Key components of time series data:\n",
    "- **Trend**: The overall direction of the data (upward, downward, etc.).\n",
    "- **Seasonality**: Regular, repeating patterns within the data (e.g., daily, weekly, yearly cycles).\n",
    "- **Noise**: Random fluctuations that do not follow a pattern.\n",
    "\n",
    "## 2. ARIMA Model (AutoRegressive Integrated Moving Average)\n",
    "\n",
    "ARIMA is one of the most widely used models for time series forecasting. It combines three components:\n",
    "- **AutoRegressive (AR)**: Uses the dependency between an observation and a certain number of lagged observations.\n",
    "- **Integrated (I)**: Represents the differencing of raw observations to make the time series stationary.\n",
    "- **Moving Average (MA)**: Uses the dependency between an observation and a residual error from a moving average model applied to lagged observations.\n",
    "\n",
    "### Example: ARIMA Model for Time Series Forecasting\n",
    "    "
   ]
  },
  {
   "cell_type": "code",
   "execution_count": null,
   "id": "bf1ee086",
   "metadata": {},
   "outputs": [],
   "source": [
    "\n",
    "import pandas as pd\n",
    "import numpy as np\n",
    "from statsmodels.tsa.arima.model import ARIMA\n",
    "import matplotlib.pyplot as plt\n",
    "\n",
    "# Example: Generate synthetic time series data\n",
    "np.random.seed(42)\n",
    "data = np.cumsum(np.random.randn(100)) + 20\n",
    "\n",
    "# Fit ARIMA model\n",
    "model = ARIMA(data, order=(1, 1, 1))\n",
    "model_fit = model.fit()\n",
    "\n",
    "# Forecast future values\n",
    "forecast = model_fit.forecast(steps=10)\n",
    "\n",
    "# Plot the original data and the forecast\n",
    "plt.plot(data, label='Original Data')\n",
    "plt.plot(np.arange(len(data), len(data) + len(forecast)), forecast, label='Forecast', color='red')\n",
    "plt.legend()\n",
    "plt.show()\n",
    "    "
   ]
  },
  {
   "cell_type": "markdown",
   "id": "b993ccf7",
   "metadata": {},
   "source": [
    "\n",
    "## 3. LSTM for Time Series Forecasting\n",
    "\n",
    "Long Short-Term Memory (LSTM) networks are a type of Recurrent Neural Network (RNN) that can learn dependencies in sequential data. LSTM models are widely used for time series forecasting when data shows long-term dependencies or when ARIMA models are not sufficient.\n",
    "\n",
    "### Example: LSTM for Time Series Forecasting\n",
    "    "
   ]
  },
  {
   "cell_type": "code",
   "execution_count": null,
   "id": "b350df17",
   "metadata": {},
   "outputs": [],
   "source": [
    "\n",
    "from tensorflow.keras.models import Sequential\n",
    "from tensorflow.keras.layers import LSTM, Dense\n",
    "\n",
    "# Reshape data for LSTM\n",
    "data_lstm = np.reshape(data, (len(data), 1, 1))\n",
    "\n",
    "# Build LSTM model\n",
    "lstm_model = Sequential([\n",
    "    LSTM(50, activation='relu', input_shape=(1, 1)),\n",
    "    Dense(1)\n",
    "])\n",
    "\n",
    "# Compile the model\n",
    "lstm_model.compile(optimizer='adam', loss='mse')\n",
    "\n",
    "# Train the model\n",
    "lstm_model.fit(data_lstm, data, epochs=200, verbose=0)\n",
    "\n",
    "# Forecast future values using LSTM\n",
    "forecast_lstm = lstm_model.predict(np.reshape(data[-1], (1, 1, 1)))\n",
    "\n",
    "forecast_lstm\n",
    "    "
   ]
  },
  {
   "cell_type": "markdown",
   "id": "64830189",
   "metadata": {},
   "source": [
    "\n",
    "## 4. Applications of Time Series Forecasting\n",
    "\n",
    "1. **Stock Market Forecasting**: Predicting future stock prices based on historical data.\n",
    "2. **Sales Forecasting**: Forecasting sales trends to optimize inventory and business decisions.\n",
    "3. **Weather Prediction**: Predicting weather patterns using historical weather data.\n",
    "\n",
    "### Benefits of Time Series Forecasting\n",
    "- **Forecast Trends**: Time series models help predict future trends, making them valuable for decision-making.\n",
    "- **Seasonality Detection**: These models capture regular patterns like seasonality, which can be useful for planning and forecasting cyclical events.\n",
    "- **Financial Forecasting**: Time series forecasting is crucial in areas like stock markets and economic forecasting.\n",
    "\n",
    "    "
   ]
  }
 ],
 "metadata": {},
 "nbformat": 4,
 "nbformat_minor": 5
}
