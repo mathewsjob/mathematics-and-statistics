{
 "cells": [
  {
   "cell_type": "markdown",
   "id": "298283aa",
   "metadata": {},
   "source": [
    "# Probability and Statistics for Machine Learning: Probability Distributions"
   ]
  },
  {
   "cell_type": "markdown",
   "id": "1c8acc4f",
   "metadata": {},
   "source": [
    "## 3. Probability Distributions"
   ]
  },
  {
   "cell_type": "markdown",
   "id": "a93cbf6e",
   "metadata": {},
   "source": [
    "\n",
    "### What are Probability Distributions?\n",
    "\n",
    "A probability distribution describes how the probabilities of different outcomes are distributed for a random variable. It provides a mathematical description of the likelihood of different outcomes.\n",
    "\n",
    "There are two types of probability distributions:\n",
    "1. **Discrete Probability Distributions**: Used for discrete random variables (variables that take on specific values).\n",
    "2. **Continuous Probability Distributions**: Used for continuous random variables (variables that can take on any value within a range).\n",
    "\n",
    "### Discrete Probability Distributions\n",
    "\n",
    "- **Binomial Distribution**: Describes the number of successes in a fixed number of independent Bernoulli trials (each trial results in a success or failure).\n",
    "  \n",
    "  Probability mass function (PMF):\n",
    "  \\[\n",
    "  P(X = k) = \binom{n}{k} p^k (1 - p)^{n - k}\n",
    "  \\]\n",
    "  Where:\n",
    "  - \\( n \\) is the number of trials.\n",
    "  - \\( k \\) is the number of successes.\n",
    "  - \\( p \\) is the probability of success in each trial.\n",
    "\n",
    "### Example: Binomial Distribution\n",
    "\n",
    "The probability of getting exactly 3 heads in 5 coin flips, with the probability of heads being 0.5, is calculated as:\n",
    "    "
   ]
  },
  {
   "cell_type": "code",
   "execution_count": null,
   "id": "4b11d501",
   "metadata": {},
   "outputs": [],
   "source": [
    "\n",
    "from scipy.stats import binom\n",
    "\n",
    "# Example: Binomial distribution\n",
    "n = 5   # Number of trials\n",
    "p = 0.5 # Probability of success\n",
    "k = 3   # Number of successes\n",
    "\n",
    "P_binomial = binom.pmf(k, n, p)\n",
    "P_binomial\n",
    "    "
   ]
  },
  {
   "cell_type": "markdown",
   "id": "7722c716",
   "metadata": {},
   "source": [
    "\n",
    "### Continuous Probability Distributions\n",
    "\n",
    "- **Normal Distribution**: The most commonly used continuous distribution in machine learning. It is also known as the Gaussian distribution.\n",
    "\n",
    "  Probability density function (PDF):\n",
    "  \\[\n",
    "  f(x) = \f",
    "rac{1}{\\sqrt{2\\pi\\sigma^2}} \\exp\\left( -\f",
    "rac{(x - \\mu)^2}{2\\sigma^2} \r",
    "ight)\n",
    "  \\]\n",
    "  Where:\n",
    "  - \\( \\mu \\) is the mean.\n",
    "  - \\( \\sigma^2 \\) is the variance.\n",
    "\n",
    "### Example: Normal Distribution\n",
    "\n",
    "The PDF of a normal distribution with mean 0 and standard deviation 1 (standard normal distribution) can be plotted as follows:\n",
    "    "
   ]
  },
  {
   "cell_type": "code",
   "execution_count": null,
   "id": "c993eeba",
   "metadata": {},
   "outputs": [],
   "source": [
    "\n",
    "import numpy as np\n",
    "import matplotlib.pyplot as plt\n",
    "from scipy.stats import norm\n",
    "\n",
    "# Example: Normal distribution\n",
    "x = np.linspace(-3, 3, 100)\n",
    "mean = 0\n",
    "std_dev = 1\n",
    "\n",
    "# Plotting the normal distribution\n",
    "plt.plot(x, norm.pdf(x, mean, std_dev))\n",
    "plt.title('Normal Distribution (mean=0, std_dev=1)')\n",
    "plt.show()\n",
    "    "
   ]
  },
  {
   "cell_type": "markdown",
   "id": "1a0ac89e",
   "metadata": {},
   "source": [
    "\n",
    "### Other Probability Distributions\n",
    "\n",
    "- **Poisson Distribution**: Describes the probability of a given number of events happening in a fixed interval of time or space.\n",
    "- **Exponential Distribution**: Models the time between events in a Poisson process.\n",
    "\n",
    "Probability distributions are widely used in machine learning for tasks such as:\n",
    "- Modeling uncertainties.\n",
    "- Estimating likelihoods.\n",
    "- Bayesian inference.\n",
    "\n",
    "    "
   ]
  }
 ],
 "metadata": {},
 "nbformat": 4,
 "nbformat_minor": 5
}
