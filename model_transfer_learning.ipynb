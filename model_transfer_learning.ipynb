{
 "cells": [
  {
   "cell_type": "markdown",
   "id": "3471403e",
   "metadata": {},
   "source": [
    "# Transfer Learning for Machine Learning"
   ]
  },
  {
   "cell_type": "markdown",
   "id": "df3e2948",
   "metadata": {},
   "source": [
    "## 1. What is Transfer Learning?"
   ]
  },
  {
   "cell_type": "markdown",
   "id": "a21b1eec",
   "metadata": {},
   "source": [
    "\n",
    "### Introduction to Transfer Learning\n",
    "\n",
    "Transfer learning is a machine learning technique where a model developed for one task is reused as the starting point for a model on a second task. This is especially useful when the dataset for the second task is smaller, allowing the model to leverage learned features from the first task.\n",
    "\n",
    "Transfer learning is widely used in deep learning, especially for tasks like image classification, where pre-trained models (e.g., VGG, ResNet) are used as the starting point for new tasks.\n",
    "\n",
    "### Example: Transfer Learning Using a Pre-trained Model (VGG16)\n",
    "\n",
    "In this example, we will use a pre-trained VGG16 model from Keras and apply transfer learning to classify images for a new task.\n",
    "    "
   ]
  },
  {
   "cell_type": "code",
   "execution_count": null,
   "id": "a02e35dd",
   "metadata": {},
   "outputs": [],
   "source": [
    "\n",
    "from tensorflow.keras.applications import VGG16\n",
    "from tensorflow.keras.models import Model\n",
    "from tensorflow.keras.layers import Dense, Flatten\n",
    "from tensorflow.keras.preprocessing.image import ImageDataGenerator\n",
    "\n",
    "# Load the pre-trained VGG16 model without the top layers\n",
    "vgg = VGG16(weights='imagenet', include_top=False, input_shape=(224, 224, 3))\n",
    "\n",
    "# Freeze the layers of the pre-trained model\n",
    "for layer in vgg.layers:\n",
    "    layer.trainable = False\n",
    "\n",
    "# Add custom layers for the new task\n",
    "x = Flatten()(vgg.output)\n",
    "x = Dense(256, activation='relu')(x)\n",
    "output = Dense(1, activation='sigmoid')(x)\n",
    "\n",
    "# Create a new model\n",
    "model = Model(inputs=vgg.input, outputs=output)\n",
    "\n",
    "# Compile the model\n",
    "model.compile(optimizer='adam', loss='binary_crossentropy', metrics=['accuracy'])\n",
    "\n",
    "# Summary of the model\n",
    "model.summary()\n",
    "    "
   ]
  },
  {
   "cell_type": "markdown",
   "id": "02fc1ca3",
   "metadata": {},
   "source": [
    "\n",
    "## 2. Fine-Tuning Pre-trained Models\n",
    "\n",
    "After applying transfer learning, you can fine-tune the model by unfreezing some of the pre-trained layers and training them on the new dataset. Fine-tuning helps adapt the pre-trained model more closely to the new task.\n",
    "\n",
    "### Example: Fine-Tuning a Pre-trained Model\n",
    "    "
   ]
  },
  {
   "cell_type": "code",
   "execution_count": null,
   "id": "39797d11",
   "metadata": {},
   "outputs": [],
   "source": [
    "\n",
    "# Unfreeze the last few layers of the pre-trained model for fine-tuning\n",
    "for layer in vgg.layers[-4:]:\n",
    "    layer.trainable = True\n",
    "\n",
    "# Recompile the model after unfreezing layers\n",
    "model.compile(optimizer='adam', loss='binary_crossentropy', metrics=['accuracy'])\n",
    "\n",
    "# Model summary after unfreezing layers\n",
    "model.summary()\n",
    "    "
   ]
  },
  {
   "cell_type": "markdown",
   "id": "643e588f",
   "metadata": {},
   "source": [
    "\n",
    "## Applications of Transfer Learning\n",
    "\n",
    "- **Image Classification**: Using pre-trained models like VGG, ResNet, or Inception to classify new images with limited data.\n",
    "- **Natural Language Processing (NLP)**: Transfer learning in NLP uses models like BERT or GPT to fine-tune on specific text tasks.\n",
    "- **Medical Imaging**: Pre-trained models are used in medical image analysis, where labeled data is scarce.\n",
    "\n",
    "Transfer learning helps save time and computational resources while improving performance on tasks where training data is limited.\n",
    "\n",
    "    "
   ]
  }
 ],
 "metadata": {},
 "nbformat": 4,
 "nbformat_minor": 5
}
