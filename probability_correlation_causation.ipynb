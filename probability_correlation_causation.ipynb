{
 "cells": [
  {
   "cell_type": "markdown",
   "id": "8098a486",
   "metadata": {},
   "source": [
    "# Probability and Statistics for Machine Learning: Correlation and Causation"
   ]
  },
  {
   "cell_type": "markdown",
   "id": "d1c2a8a0",
   "metadata": {},
   "source": [
    "## 8. Correlation and Causation"
   ]
  },
  {
   "cell_type": "markdown",
   "id": "8f879852",
   "metadata": {},
   "source": [
    "\n",
    "### What is Correlation?\n",
    "\n",
    "Correlation measures the strength and direction of the linear relationship between two variables. The correlation coefficient, denoted as \\( r \\), ranges from -1 to 1:\n",
    "- \\( r = 1 \\): Perfect positive correlation.\n",
    "- \\( r = -1 \\): Perfect negative correlation.\n",
    "- \\( r = 0 \\): No correlation.\n",
    "\n",
    "The most commonly used correlation coefficient is the **Pearson correlation coefficient**, which is calculated as:\n",
    "\n",
    "\\[\n",
    "r = \f",
    "rac{\\sum (x_i - \bar{x})(y_i - \bar{y})}{\\sqrt{\\sum (x_i - \bar{x})^2 \\sum (y_i - \bar{y})^2}}\n",
    "\\]\n",
    "\n",
    "### Example: Pearson Correlation\n",
    "\n",
    "We can calculate the Pearson correlation coefficient between two variables using Python.\n",
    "    "
   ]
  },
  {
   "cell_type": "code",
   "execution_count": null,
   "id": "b0860a65",
   "metadata": {},
   "outputs": [],
   "source": [
    "\n",
    "# Example: Calculating Pearson correlation coefficient\n",
    "X = np.array([1, 2, 3, 4, 5])\n",
    "Y = np.array([2, 4, 6, 8, 10])\n",
    "\n",
    "correlation_coefficient = np.corrcoef(X, Y)[0, 1]\n",
    "correlation_coefficient\n",
    "    "
   ]
  },
  {
   "cell_type": "markdown",
   "id": "057ddae6",
   "metadata": {},
   "source": [
    "\n",
    "### What is Causation?\n",
    "\n",
    "Causation refers to a cause-and-effect relationship between two variables. While correlation measures the association between two variables, it does not imply causation. Just because two variables are correlated does not mean that one causes the other.\n",
    "\n",
    "### Correlation vs. Causation\n",
    "\n",
    "- **Correlation**: Two variables move together, but we don't know if one causes the other.\n",
    "- **Causation**: One variable directly affects another.\n",
    "\n",
    "### Example: Correlation vs. Causation\n",
    "\n",
    "Ice cream sales and drowning incidents are correlated because both increase during the summer, but ice cream sales do not cause drowning. The underlying cause is the warmer weather.\n",
    "\n",
    "### Applications in Machine Learning\n",
    "\n",
    "- **Correlation** is used to assess the relationship between features and the target variable or between different features.\n",
    "- **Causation** is crucial for understanding the true impact of one variable on another, which can be difficult to establish without controlled experiments.\n",
    "\n",
    "    "
   ]
  }
 ],
 "metadata": {},
 "nbformat": 4,
 "nbformat_minor": 5
}
