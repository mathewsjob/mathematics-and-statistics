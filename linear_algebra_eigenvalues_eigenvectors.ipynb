{
 "cells": [
  {
   "cell_type": "markdown",
   "id": "ad39602f",
   "metadata": {},
   "source": [
    "# Linear Algebra for Machine Learning: Eigenvalues and Eigenvectors"
   ]
  },
  {
   "cell_type": "markdown",
   "id": "20e089b8",
   "metadata": {},
   "source": [
    "## 4. Eigenvalues and Eigenvectors"
   ]
  },
  {
   "cell_type": "markdown",
   "id": "f743437a",
   "metadata": {},
   "source": [
    "\n",
    "### What are Eigenvalues and Eigenvectors?\n",
    "\n",
    "In linear algebra, an eigenvector of a matrix is a non-zero vector that, when multiplied by the matrix, only changes in scale, not in direction. The scalar by which the eigenvector is scaled is known as the eigenvalue.\n",
    "\n",
    "Mathematically, for a matrix \\( A \\), an eigenvector \\( v \\) and eigenvalue \\( \\lambda \\) satisfy the equation:\n",
    "\n",
    "\\[\n",
    "A \\cdot v = \\lambda \\cdot v\n",
    "\\]\n",
    "\n",
    "Here:\n",
    "- \\( A \\) is the matrix.\n",
    "- \\( v \\) is the eigenvector.\n",
    "- \\( \\lambda \\) is the eigenvalue.\n",
    "\n",
    "### Intuition\n",
    "- Eigenvectors represent directions in which the transformation represented by the matrix acts as a simple scaling (stretching or compressing).\n",
    "- Eigenvalues tell how much the eigenvector is scaled.\n",
    "\n",
    "### Finding Eigenvalues and Eigenvectors\n",
    "To find the eigenvalues and eigenvectors of a matrix \\( A \\), we solve the characteristic equation:\n",
    "\n",
    "\\[\n",
    "\\det(A - \\lambda I) = 0\n",
    "\\]\n",
    "\n",
    "Where \\( I \\) is the identity matrix, and \\( \\lambda \\) are the eigenvalues.\n",
    "    "
   ]
  },
  {
   "cell_type": "code",
   "execution_count": null,
   "id": "b52fe97c",
   "metadata": {},
   "outputs": [],
   "source": [
    "\n",
    "# Example: Eigenvalues and Eigenvectors of a matrix\n",
    "matrix_A = np.array([[4, -2], [1, 1]])\n",
    "eigenvalues, eigenvectors = np.linalg.eig(matrix_A)\n",
    "\n",
    "print(f\"Eigenvalues of Matrix A: {eigenvalues}\")\n",
    "print(f\"Eigenvectors of Matrix A:\\n{eigenvectors}\")\n",
    "    "
   ]
  },
  {
   "cell_type": "markdown",
   "id": "6b79d304",
   "metadata": {},
   "source": [
    "\n",
    "### Properties of Eigenvalues and Eigenvectors\n",
    "1. The number of eigenvalues is equal to the size of the matrix (i.e., a 2x2 matrix has 2 eigenvalues).\n",
    "2. An eigenvector is associated with its corresponding eigenvalue.\n",
    "3. Eigenvalues and eigenvectors are useful in many areas of machine learning, such as Principal Component Analysis (PCA), which is used for dimensionality reduction.\n",
    "\n",
    "### Applications in Machine Learning\n",
    "Eigenvalues and eigenvectors are used in many algorithms, including:\n",
    "- **Principal Component Analysis (PCA)**: A dimensionality reduction technique where the directions of maximum variance in data are determined using eigenvectors, and the corresponding eigenvalues tell us the magnitude of variance in these directions.\n",
    "    "
   ]
  }
 ],
 "metadata": {},
 "nbformat": 4,
 "nbformat_minor": 5
}
