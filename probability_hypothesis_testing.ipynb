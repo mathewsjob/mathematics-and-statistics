{
 "cells": [
  {
   "cell_type": "markdown",
   "id": "66196f95",
   "metadata": {},
   "source": [
    "# Probability and Statistics for Machine Learning: Hypothesis Testing"
   ]
  },
  {
   "cell_type": "markdown",
   "id": "89359783",
   "metadata": {},
   "source": [
    "## 6. Hypothesis Testing"
   ]
  },
  {
   "cell_type": "markdown",
   "id": "6ec3d079",
   "metadata": {},
   "source": [
    "\n",
    "### What is Hypothesis Testing?\n",
    "\n",
    "Hypothesis testing is a statistical method used to determine whether there is enough evidence in a sample of data to support a particular claim (hypothesis) about a population parameter.\n",
    "\n",
    "There are two main hypotheses in hypothesis testing:\n",
    "1. **Null Hypothesis (\\( H_0 \\))**: The hypothesis that there is no effect or no difference.\n",
    "2. **Alternative Hypothesis (\\( H_1 \\))**: The hypothesis that there is an effect or a difference.\n",
    "\n",
    "The goal of hypothesis testing is to either reject the null hypothesis or fail to reject it, based on the data.\n",
    "\n",
    "### Steps in Hypothesis Testing:\n",
    "1. **State the Hypotheses**: Define the null and alternative hypotheses.\n",
    "2. **Choose a Significance Level (\\( \u0007lpha \\))**: The probability of rejecting the null hypothesis when it is actually true (common values are 0.05, 0.01).\n",
    "3. **Collect Data**: Obtain a sample and calculate the test statistic.\n",
    "4. **Make a Decision**: Compare the test statistic to a critical value or calculate a p-value.\n",
    "5. **Interpret the Results**: Decide whether to reject or fail to reject the null hypothesis.\n",
    "\n",
    "### Example: Testing the Mean of a Population\n",
    "\n",
    "Let's say we want to test whether the average height of a population is 170 cm. The null and alternative hypotheses are:\n",
    "\n",
    "\\[\n",
    "H_0: \\mu = 170\n",
    "\\]\n",
    "\\[\n",
    "H_1: \\mu \n",
    "eq 170\n",
    "\\]\n",
    "\n",
    "We can use a one-sample t-test to perform this test.\n",
    "    "
   ]
  },
  {
   "cell_type": "code",
   "execution_count": null,
   "id": "20143698",
   "metadata": {},
   "outputs": [],
   "source": [
    "\n",
    "from scipy import stats\n",
    "\n",
    "# Example: One-sample t-test\n",
    "sample_data = np.array([168, 172, 169, 171, 170, 173, 174])\n",
    "population_mean = 170\n",
    "\n",
    "# Perform one-sample t-test\n",
    "t_statistic, p_value = stats.ttest_1samp(sample_data, population_mean)\n",
    "t_statistic, p_value\n",
    "    "
   ]
  },
  {
   "cell_type": "markdown",
   "id": "67d07290",
   "metadata": {},
   "source": [
    "\n",
    "### Interpreting the Results\n",
    "\n",
    "- If the p-value is less than the significance level \\( \u0007lpha \\) (e.g., 0.05), we reject the null hypothesis.\n",
    "- If the p-value is greater than \\( \u0007lpha \\), we fail to reject the null hypothesis.\n",
    "\n",
    "### Types of Errors\n",
    "\n",
    "In hypothesis testing, two types of errors can occur:\n",
    "1. **Type I Error**: Rejecting the null hypothesis when it is actually true (false positive). The probability of making a Type I error is the significance level \\( \u0007lpha \\).\n",
    "2. **Type II Error**: Failing to reject the null hypothesis when it is actually false (false negative).\n",
    "\n",
    "### Applications in Machine Learning\n",
    "\n",
    "Hypothesis testing is used in machine learning to:\n",
    "- Compare model performance.\n",
    "- Test assumptions in data (e.g., normality).\n",
    "- Perform feature selection by testing the significance of features.\n",
    "\n",
    "    "
   ]
  }
 ],
 "metadata": {},
 "nbformat": 4,
 "nbformat_minor": 5
}
