{
 "cells": [
  {
   "cell_type": "markdown",
   "id": "8f973a7b",
   "metadata": {},
   "source": [
    "# Recommender Systems for Machine Learning"
   ]
  },
  {
   "cell_type": "markdown",
   "id": "7f032ab2",
   "metadata": {},
   "source": [
    "## 1. Introduction to Recommender Systems"
   ]
  },
  {
   "cell_type": "markdown",
   "id": "510b2a30",
   "metadata": {},
   "source": [
    "\n",
    "### What is a Recommender System?\n",
    "\n",
    "Recommender systems are algorithms designed to suggest relevant items to users based on their preferences. These systems are widely used in online platforms such as Netflix, Amazon, and YouTube to recommend movies, products, and videos to users.\n",
    "\n",
    "There are three main types of recommender systems:\n",
    "1. **Collaborative Filtering**: Recommends items by analyzing user behavior and preferences, comparing them to others with similar tastes.\n",
    "2. **Content-Based Filtering**: Recommends items based on the characteristics of the items and the preferences of the user.\n",
    "3. **Hybrid Systems**: Combine collaborative and content-based filtering methods to provide more accurate recommendations.\n",
    "\n",
    "## 2. Collaborative Filtering\n",
    "\n",
    "Collaborative filtering focuses on identifying users with similar preferences and recommending items based on the behavior of these users.\n",
    "\n",
    "### Example: User-Based Collaborative Filtering\n",
    "    "
   ]
  },
  {
   "cell_type": "code",
   "execution_count": null,
   "id": "156c8bb4",
   "metadata": {},
   "outputs": [],
   "source": [
    "\n",
    "import numpy as np\n",
    "import pandas as pd\n",
    "from sklearn.metrics.pairwise import cosine_similarity\n",
    "\n",
    "# Example user-item matrix (rows: users, columns: items, values: ratings)\n",
    "ratings_matrix = pd.DataFrame({\n",
    "    'User1': [5, 4, np.nan, 3, 1],\n",
    "    'User2': [4, np.nan, 4, 2, 1],\n",
    "    'User3': [1, 2, 3, np.nan, 5],\n",
    "    'User4': [np.nan, 3, 4, 5, 2]\n",
    "})\n",
    "\n",
    "# Filling missing ratings with the mean rating of each user\n",
    "ratings_matrix_filled = ratings_matrix.apply(lambda row: row.fillna(row.mean()), axis=1)\n",
    "\n",
    "# Calculate cosine similarity between users\n",
    "similarity_matrix = cosine_similarity(ratings_matrix_filled)\n",
    "similarity_df = pd.DataFrame(similarity_matrix, index=ratings_matrix.index, columns=ratings_matrix.index)\n",
    "\n",
    "# Display user similarity matrix\n",
    "similarity_df\n",
    "    "
   ]
  },
  {
   "cell_type": "markdown",
   "id": "21016475",
   "metadata": {},
   "source": [
    "\n",
    "## 3. Content-Based Filtering\n",
    "\n",
    "Content-based filtering recommends items to users based on the features of the items and the user's previous interactions with similar items.\n",
    "\n",
    "### Example: Content-Based Filtering Using Movie Features\n",
    "    "
   ]
  },
  {
   "cell_type": "code",
   "execution_count": null,
   "id": "8fce4bfb",
   "metadata": {},
   "outputs": [],
   "source": [
    "\n",
    "# Example movie feature matrix (rows: movies, columns: features)\n",
    "movie_features = pd.DataFrame({\n",
    "    'Action': [1, 0, 1, 1, 0],\n",
    "    'Romance': [0, 1, 0, 0, 1],\n",
    "    'Comedy': [0, 1, 1, 0, 0]\n",
    "}, index=['Movie1', 'Movie2', 'Movie3', 'Movie4', 'Movie5'])\n",
    "\n",
    "# User preferences for different genres\n",
    "user_preferences = np.array([1, 0, 1])  # Prefers Action and Comedy\n",
    "\n",
    "# Calculate similarity between user preferences and movie features\n",
    "movie_similarity = movie_features.dot(user_preferences)\n",
    "movie_similarity\n",
    "    "
   ]
  },
  {
   "cell_type": "markdown",
   "id": "f2ae8c65",
   "metadata": {},
   "source": [
    "\n",
    "## 4. Hybrid Recommender Systems\n",
    "\n",
    "Hybrid recommender systems combine collaborative filtering and content-based filtering to provide more accurate recommendations. By leveraging both user behavior and item characteristics, hybrid systems can overcome the limitations of using a single method.\n",
    "\n",
    "## Applications of Recommender Systems\n",
    "\n",
    "1. **E-commerce**: Recommending products to users based on their purchase history and browsing behavior.\n",
    "2. **Streaming Platforms**: Recommending movies, shows, or music to users based on their past interactions and preferences.\n",
    "3. **Social Media**: Suggesting friends, posts, or groups based on the user's activity and connections.\n",
    "\n",
    "### Benefits of Recommender Systems\n",
    "1. **Personalization**: Tailors recommendations to individual users, improving user experience.\n",
    "2. **Increased Engagement**: Encourages users to spend more time on platforms by showing them relevant content.\n",
    "3. **Higher Sales**: In e-commerce, recommender systems can boost sales by suggesting products that users are likely to purchase.\n",
    "\n",
    "    "
   ]
  }
 ],
 "metadata": {},
 "nbformat": 4,
 "nbformat_minor": 5
}
