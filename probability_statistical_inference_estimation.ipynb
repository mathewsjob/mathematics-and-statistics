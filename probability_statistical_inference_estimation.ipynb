{
 "cells": [
  {
   "cell_type": "markdown",
   "id": "32d15fe4",
   "metadata": {},
   "source": [
    "# Probability and Statistics for Machine Learning: Statistical Inference and Estimation"
   ]
  },
  {
   "cell_type": "markdown",
   "id": "f05e02cd",
   "metadata": {},
   "source": [
    "## 9. Statistical Inference and Estimation"
   ]
  },
  {
   "cell_type": "markdown",
   "id": "a8507cb5",
   "metadata": {},
   "source": [
    "\n",
    "### What is Statistical Inference?\n",
    "\n",
    "Statistical inference is the process of drawing conclusions about a population based on a sample of data. It involves using probability theory to estimate population parameters and make predictions.\n",
    "\n",
    "There are two main types of statistical inference:\n",
    "1. **Point Estimation**: Provides a single value (estimate) of a population parameter (e.g., mean or proportion).\n",
    "2. **Interval Estimation**: Provides a range of values (confidence interval) within which the population parameter is likely to fall.\n",
    "\n",
    "### What is Estimation?\n",
    "\n",
    "Estimation is the process of inferring the value of an unknown population parameter based on sample data. There are two types of estimators:\n",
    "- **Point Estimator**: Estimates a single value for the parameter (e.g., sample mean as an estimate of the population mean).\n",
    "- **Interval Estimator**: Estimates a range of values (e.g., confidence intervals).\n",
    "\n",
    "### Example: Point Estimation\n",
    "\n",
    "Suppose we want to estimate the population mean based on a sample of data.\n",
    "    "
   ]
  },
  {
   "cell_type": "code",
   "execution_count": null,
   "id": "8d620e83",
   "metadata": {},
   "outputs": [],
   "source": [
    "\n",
    "# Example: Point Estimation of Population Mean\n",
    "sample_data = np.array([168, 172, 169, 171, 170, 173, 174])\n",
    "sample_mean = np.mean(sample_data)\n",
    "sample_mean\n",
    "    "
   ]
  },
  {
   "cell_type": "markdown",
   "id": "ccf9905e",
   "metadata": {},
   "source": [
    "\n",
    "### Confidence Intervals\n",
    "\n",
    "A confidence interval is a range of values that is likely to contain the population parameter with a certain level of confidence (e.g., 95% confidence interval).\n",
    "\n",
    "For a population mean, the confidence interval is given by:\n",
    "\n",
    "\\[\n",
    "CI = \bar{x} \\pm Z_{\u0007lpha/2} \\cdot \f",
    "rac{\\sigma}{\\sqrt{n}}\n",
    "\\]\n",
    "\n",
    "Where:\n",
    "- \\( \bar{x} \\) is the sample mean.\n",
    "- \\( Z_{\u0007lpha/2} \\) is the critical value from the standard normal distribution.\n",
    "- \\( \\sigma \\) is the standard deviation.\n",
    "- \\( n \\) is the sample size.\n",
    "\n",
    "### Example: Confidence Interval\n",
    "\n",
    "We can calculate a 95% confidence interval for the population mean based on the sample data.\n",
    "    "
   ]
  },
  {
   "cell_type": "code",
   "execution_count": null,
   "id": "66422c6c",
   "metadata": {},
   "outputs": [],
   "source": [
    "\n",
    "# Example: Calculating 95% Confidence Interval\n",
    "import scipy.stats as stats\n",
    "\n",
    "n = len(sample_data)\n",
    "confidence_level = 0.95\n",
    "degrees_freedom = n - 1\n",
    "sample_std = np.std(sample_data, ddof=1)\n",
    "confidence_interval = stats.t.interval(confidence_level, degrees_freedom, loc=sample_mean, scale=sample_std/np.sqrt(n))\n",
    "confidence_interval\n",
    "    "
   ]
  },
  {
   "cell_type": "markdown",
   "id": "c8023694",
   "metadata": {},
   "source": [
    "\n",
    "### Applications in Machine Learning\n",
    "\n",
    "- **Point Estimation** is used to estimate population parameters such as means, proportions, and variances.\n",
    "- **Confidence Intervals** provide a range of values for population parameters and are used to assess the reliability of estimates.\n",
    "- Statistical inference is used to generalize results from a sample to a larger population and to assess the uncertainty of predictions.\n",
    "\n",
    "    "
   ]
  }
 ],
 "metadata": {},
 "nbformat": 4,
 "nbformat_minor": 5
}
