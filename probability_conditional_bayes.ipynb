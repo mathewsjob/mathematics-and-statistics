{
 "cells": [
  {
   "cell_type": "markdown",
   "id": "f18cf724",
   "metadata": {},
   "source": [
    "# Probability and Statistics for Machine Learning: Conditional Probability and Bayes' Theorem"
   ]
  },
  {
   "cell_type": "markdown",
   "id": "3e15fae5",
   "metadata": {},
   "source": [
    "## 2. Conditional Probability and Bayes' Theorem"
   ]
  },
  {
   "cell_type": "markdown",
   "id": "cf610e26",
   "metadata": {},
   "source": [
    "\n",
    "### What is Conditional Probability?\n",
    "\n",
    "Conditional probability is the probability of an event \\( A \\), given that another event \\( B \\) has already occurred. It is denoted as \\( P(A|B) \\) and calculated as:\n",
    "\n",
    "\\[\n",
    "P(A|B) = \f",
    "rac{P(A \\cap B)}{P(B)}\n",
    "\\]\n",
    "\n",
    "This concept is essential in many real-world scenarios where the occurrence of one event affects the likelihood of another.\n",
    "\n",
    "### Example\n",
    "\n",
    "Suppose we have a deck of 52 cards, and we want to find the probability of drawing a queen (event \\( A \\)) given that a red card (event \\( B \\)) has been drawn. There are 2 red queens in the deck, and 26 red cards in total. The conditional probability is:\n",
    "\n",
    "\\[\n",
    "P(\text{Queen}|\text{Red}) = \f",
    "rac{2}{26} = \f",
    "rac{1}{13}\n",
    "\\]\n",
    "    "
   ]
  },
  {
   "cell_type": "code",
   "execution_count": null,
   "id": "5d4cf339",
   "metadata": {},
   "outputs": [],
   "source": [
    "\n",
    "# Example: Conditional probability of drawing a queen given a red card\n",
    "P_queen_given_red = Fraction(2, 26)\n",
    "P_queen_given_red\n",
    "    "
   ]
  },
  {
   "cell_type": "markdown",
   "id": "66295d74",
   "metadata": {},
   "source": [
    "\n",
    "### Bayes' Theorem\n",
    "\n",
    "Bayes' theorem is a powerful tool for calculating conditional probabilities. It allows us to update our beliefs about the likelihood of an event based on new evidence.\n",
    "\n",
    "Bayes' theorem is given by:\n",
    "\n",
    "\\[\n",
    "P(A|B) = \f",
    "rac{P(B|A) \\cdot P(A)}{P(B)}\n",
    "\\]\n",
    "\n",
    "Where:\n",
    "- \\( P(A|B) \\) is the posterior probability: the probability of \\( A \\) given \\( B \\).\n",
    "- \\( P(B|A) \\) is the likelihood: the probability of \\( B \\) given \\( A \\).\n",
    "- \\( P(A) \\) is the prior probability: the initial probability of \\( A \\).\n",
    "- \\( P(B) \\) is the evidence: the probability of \\( B \\).\n",
    "\n",
    "### Example: Medical Diagnosis\n",
    "\n",
    "Suppose a patient is tested for a disease. The test is 99% accurate, meaning the probability of testing positive given that the patient has the disease is 0.99. However, only 1% of the population has the disease.\n",
    "\n",
    "We can use Bayes' theorem to calculate the probability that the patient actually has the disease, given a positive test result.\n",
    "    "
   ]
  },
  {
   "cell_type": "code",
   "execution_count": null,
   "id": "999c4c04",
   "metadata": {},
   "outputs": [],
   "source": [
    "\n",
    "# Example: Using Bayes' Theorem for medical diagnosis\n",
    "# P(Disease | Positive Test) = (P(Positive Test | Disease) * P(Disease)) / P(Positive Test)\n",
    "\n",
    "P_positive_given_disease = 0.99\n",
    "P_disease = 0.01\n",
    "P_positive = 0.02  # Assume 2% of tests come back positive\n",
    "\n",
    "P_disease_given_positive = (P_positive_given_disease * P_disease) / P_positive\n",
    "P_disease_given_positive\n",
    "    "
   ]
  },
  {
   "cell_type": "markdown",
   "id": "f1f19d96",
   "metadata": {},
   "source": [
    "\n",
    "### Applications of Bayes' Theorem in Machine Learning\n",
    "\n",
    "Bayes' theorem is the foundation of **Bayesian Inference**, a statistical method used to update the probability of a hypothesis as more evidence becomes available. It is widely used in the **Naive Bayes Classifier**, which is a simple yet powerful algorithm for classification tasks.\n",
    "\n",
    "    "
   ]
  }
 ],
 "metadata": {},
 "nbformat": 4,
 "nbformat_minor": 5
}
