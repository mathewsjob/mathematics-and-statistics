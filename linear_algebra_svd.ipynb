{
 "cells": [
  {
   "cell_type": "markdown",
   "id": "6ccf7871",
   "metadata": {},
   "source": [
    "# Linear Algebra for Machine Learning: Singular Value Decomposition (SVD)"
   ]
  },
  {
   "cell_type": "markdown",
   "id": "72a66607",
   "metadata": {},
   "source": [
    "## 5. Singular Value Decomposition (SVD)"
   ]
  },
  {
   "cell_type": "markdown",
   "id": "48f5af3c",
   "metadata": {},
   "source": [
    "\n",
    "### What is Singular Value Decomposition (SVD)?\n",
    "\n",
    "Singular Value Decomposition (SVD) is a factorization of a matrix into three other matrices. It is a fundamental matrix decomposition method used in various applications in machine learning, such as dimensionality reduction, noise reduction, and more.\n",
    "\n",
    "Given an m x n matrix \\( A \\), the SVD is represented as:\n",
    "\n",
    "\\[\n",
    "A = U \\Sigma V^T\n",
    "\\]\n",
    "\n",
    "Where:\n",
    "- \\( U \\) is an m x m orthogonal matrix (the left singular vectors).\n",
    "- \\( \\Sigma \\) is an m x n diagonal matrix with non-negative real numbers (the singular values).\n",
    "- \\( V^T \\) is the transpose of an n x n orthogonal matrix (the right singular vectors).\n",
    "\n",
    "### SVD in Machine Learning\n",
    "SVD is used in several machine learning tasks:\n",
    "- **Dimensionality Reduction**: By truncating smaller singular values, we can approximate the original matrix with fewer dimensions.\n",
    "- **Recommender Systems**: SVD is used in collaborative filtering-based recommendation systems.\n",
    "- **Noise Reduction**: SVD helps to reduce noise in data by focusing on the most important components (those with the highest singular values).\n",
    "    "
   ]
  },
  {
   "cell_type": "code",
   "execution_count": null,
   "id": "b822a76e",
   "metadata": {},
   "outputs": [],
   "source": [
    "\n",
    "# Example: Singular Value Decomposition (SVD)\n",
    "matrix_A = np.array([[1, 2], [3, 4], [5, 6]])\n",
    "\n",
    "U, S, VT = np.linalg.svd(matrix_A)\n",
    "\n",
    "print(\"U Matrix:\\n\", U)\n",
    "print(\"Singular Values:\\n\", S)\n",
    "print(\"V Transpose Matrix:\\n\", VT)\n",
    "    "
   ]
  },
  {
   "cell_type": "markdown",
   "id": "65a6099c",
   "metadata": {},
   "source": [
    "\n",
    "### Properties of SVD\n",
    "1. SVD can be performed on any matrix (square or rectangular).\n",
    "2. The singular values in \\( \\Sigma \\) are always non-negative.\n",
    "3. The number of non-zero singular values gives the rank of the matrix.\n",
    "\n",
    "### Applications of SVD\n",
    "- **Principal Component Analysis (PCA)**: SVD can be used to compute PCA for dimensionality reduction.\n",
    "- **Latent Semantic Analysis (LSA)**: In natural language processing, SVD is used to uncover the underlying structure in text data.\n",
    "- **Image Compression**: SVD helps in reducing the size of images by representing them with fewer components.\n",
    "    "
   ]
  }
 ],
 "metadata": {},
 "nbformat": 4,
 "nbformat_minor": 5
}
