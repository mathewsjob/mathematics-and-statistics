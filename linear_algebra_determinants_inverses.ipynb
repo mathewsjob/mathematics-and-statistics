{
 "cells": [
  {
   "cell_type": "markdown",
   "id": "cbd64d3c",
   "metadata": {},
   "source": [
    "# Linear Algebra for Machine Learning: Determinants and Inverses"
   ]
  },
  {
   "cell_type": "markdown",
   "id": "0dd37966",
   "metadata": {},
   "source": [
    "## 3. Determinants and Inverses"
   ]
  },
  {
   "cell_type": "markdown",
   "id": "9e5c4dd5",
   "metadata": {},
   "source": [
    "\n",
    "### Determinant of a Matrix\n",
    "The determinant is a scalar value that can be computed from the elements of a square matrix. The determinant provides important information about the matrix, such as whether it is invertible or not.\n",
    "\n",
    "The determinant of a 2x2 matrix:\n",
    "\n",
    "\\[\n",
    "A = \begin{bmatrix}\n",
    "a & b \\\n",
    "c & d\n",
    "\\end{bmatrix}\n",
    "\\]\n",
    "\n",
    "The determinant of \\( A \\) is:\n",
    "\n",
    "\\[\n",
    "\\det(A) = ad - bc\n",
    "\\]\n",
    "\n",
    "For larger matrices, the determinant is computed using more complex rules involving minors and cofactors.\n",
    "    "
   ]
  },
  {
   "cell_type": "code",
   "execution_count": null,
   "id": "5f8881a7",
   "metadata": {},
   "outputs": [],
   "source": [
    "\n",
    "# Example of determinant calculation for a 2x2 matrix\n",
    "matrix_A = np.array([[1, 2], [3, 4]])\n",
    "det_A = np.linalg.det(matrix_A)\n",
    "\n",
    "print(f\"Determinant of Matrix A: {det_A}\")\n",
    "    "
   ]
  },
  {
   "cell_type": "markdown",
   "id": "d9f36578",
   "metadata": {},
   "source": [
    "\n",
    "### Inverse of a Matrix\n",
    "The inverse of a matrix \\( A \\), denoted as \\( A^{-1} \\), is a matrix that when multiplied with \\( A \\), results in the identity matrix \\( I \\). The identity matrix is a matrix with 1s on the diagonal and 0s elsewhere.\n",
    "\n",
    "For a 2x2 matrix, the inverse is computed as:\n",
    "\n",
    "\\[\n",
    "A^{-1} = \f",
    "rac{1}{\\det(A)} \\cdot \begin{bmatrix}\n",
    "d & -b \\\n",
    "-c & a\n",
    "\\end{bmatrix}\n",
    "\\]\n",
    "\n",
    "A matrix is invertible only if its determinant is non-zero.\n",
    "    "
   ]
  },
  {
   "cell_type": "code",
   "execution_count": null,
   "id": "204c858c",
   "metadata": {},
   "outputs": [],
   "source": [
    "\n",
    "# Example of inverse calculation for a 2x2 matrix\n",
    "if det_A != 0:\n",
    "    inv_A = np.linalg.inv(matrix_A)\n",
    "    print(f\"Inverse of Matrix A:\\n{inv_A}\")\n",
    "else:\n",
    "    print(\"Matrix A is not invertible because its determinant is zero.\")\n",
    "    "
   ]
  },
  {
   "cell_type": "markdown",
   "id": "cf10bafa",
   "metadata": {},
   "source": [
    "\n",
    "### Properties of Determinants and Inverses\n",
    "1. If the determinant of a matrix is zero, the matrix does not have an inverse.\n",
    "2. The inverse of a matrix, if it exists, can be used to solve systems of linear equations.\n",
    "3. The determinant of a product of matrices is equal to the product of their determinants.\n",
    "\n",
    "    "
   ]
  },
  {
   "cell_type": "code",
   "execution_count": null,
   "id": "f9185c54",
   "metadata": {},
   "outputs": [],
   "source": [
    "\n",
    "# Example: Verifying the product of a matrix and its inverse results in the identity matrix\n",
    "identity_matrix = np.dot(matrix_A, inv_A)\n",
    "print(f\"Matrix A * Inverse of A = Identity Matrix:\\n{identity_matrix}\")\n",
    "    "
   ]
  }
 ],
 "metadata": {},
 "nbformat": 4,
 "nbformat_minor": 5
}
